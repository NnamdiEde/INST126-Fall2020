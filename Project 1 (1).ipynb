{
 "cells": [
  {
   "cell_type": "code",
   "execution_count": 1,
   "metadata": {},
   "outputs": [
    {
     "name": "stdout",
     "output_type": "stream",
     "text": [
      "Select operation.\n",
      "1.Add\n",
      "1.Subtract\n",
      "1.Multiply\n",
      "1.Divide\n",
      "1.Power\n",
      "Enter  choice A/S/M/D/PA\n",
      "Enter first number:1\n",
      "Enter the second number102\n",
      "1 + 102 = 103\n"
     ]
    }
   ],
   "source": [
    "#program to make a simple calculator\n",
    "#defining functions\n",
    "\n",
    "def add (x,y):\n",
    "    \"\"\"\"This function adds 2 numbers\"\"\"\n",
    "    return x + y\n",
    "\n",
    "def subtract (x,y):\n",
    "    \"\"\"\"This function subtracts 2 numbers\"\"\"\n",
    "    return x - y\n",
    "\n",
    "def multiply (x,y):\n",
    "    \"\"\"\"This function multiplies 2 numbers\"\"\"\n",
    "    return x * y\n",
    "\n",
    "def divide (x,y):\n",
    "    \"\"\"\"This function divides 2 numbers\"\"\"\n",
    "    return x/y\n",
    "    \n",
    "def power (x,y):\n",
    "    \"\"\"\"This function gives power\"\"\"\n",
    "    \n",
    "    return pow(x,y)\n",
    "\n",
    "#take input from user\n",
    "print (\"Select operation.\")\n",
    "print(\"1.Add\")\n",
    "print(\"1.Subtract\")\n",
    "print(\"1.Multiply\")\n",
    "print(\"1.Divide\")\n",
    "print(\"1.Power\")\n",
    "choice=input(\"Enter  choice A/S/M/D/P\")\n",
    "num1= int(input (\"Enter first number:\"))\n",
    "num2=int(input (\"Enter the second number\"))\n",
    "\n",
    "\n",
    "if choice == 'A':\n",
    "    print(num1, \"+\", num2,\"=\", add(num1,num2))\n",
    "    \n",
    "elif choice == 'S':\n",
    "    print(num1, \"-\", num2,\"=\", subtract(num1,num2))\n",
    "    \n",
    "elif choice == 'M':\n",
    "    print(num1, \"x\", num2,\"=\", multiply(num1,num2))\n",
    "\n",
    "elif choice == 'D':\n",
    "    print(num1, \"/\", num2,\"=\", divide(num1,num2))\n",
    "    \n",
    "elif choice == 'P':\n",
    "    print(num1, \"^\", num2,\"=\", power(num1,num2))\n",
    "    \n",
    "else:\n",
    "    print(\"Invalid input\")"
   ]
  },
  {
   "cell_type": "code",
   "execution_count": null,
   "metadata": {},
   "outputs": [],
   "source": []
  },
  {
   "cell_type": "code",
   "execution_count": 5,
   "metadata": {},
   "outputs": [
    {
     "ename": "NameError",
     "evalue": "name 'm' is not defined",
     "output_type": "error",
     "traceback": [
      "\u001b[1;31m---------------------------------------------------------------------------\u001b[0m",
      "\u001b[1;31mNameError\u001b[0m                                 Traceback (most recent call last)",
      "\u001b[1;32m<ipython-input-5-9a40b379906c>\u001b[0m in \u001b[0;36m<module>\u001b[1;34m\u001b[0m\n\u001b[1;32m----> 1\u001b[1;33m \u001b[0mm\u001b[0m\u001b[1;33m\u001b[0m\u001b[1;33m\u001b[0m\u001b[0m\n\u001b[0m",
      "\u001b[1;31mNameError\u001b[0m: name 'm' is not defined"
     ]
    }
   ],
   "source": []
  },
  {
   "cell_type": "code",
   "execution_count": null,
   "metadata": {},
   "outputs": [],
   "source": []
  }
 ],
 "metadata": {
  "kernelspec": {
   "display_name": "Python 3",
   "language": "python",
   "name": "python3"
  },
  "language_info": {
   "codemirror_mode": {
    "name": "ipython",
    "version": 3
   },
   "file_extension": ".py",
   "mimetype": "text/x-python",
   "name": "python",
   "nbconvert_exporter": "python",
   "pygments_lexer": "ipython3",
   "version": "3.8.5"
  }
 },
 "nbformat": 4,
 "nbformat_minor": 4
}
